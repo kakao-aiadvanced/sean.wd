{
  "nbformat": 4,
  "nbformat_minor": 0,
  "metadata": {
    "colab": {
      "provenance": []
    },
    "kernelspec": {
      "name": "python3",
      "display_name": "Python 3"
    },
    "language_info": {
      "name": "python"
    }
  },
  "cells": [
    {
      "cell_type": "markdown",
      "source": [
        "## Few Shot"
      ],
      "metadata": {
        "id": "-pNB2PNHYuxU"
      }
    },
    {
      "cell_type": "code",
      "source": [
        "!pip install openai"
      ],
      "metadata": {
        "colab": {
          "base_uri": "https://localhost:8080/"
        },
        "id": "RUIftV4kZArE",
        "outputId": "55f56c0b-81c7-4e13-9b7a-ccdfc9d367b8"
      },
      "execution_count": 1,
      "outputs": [
        {
          "output_type": "stream",
          "name": "stdout",
          "text": [
            "Requirement already satisfied: openai in /usr/local/lib/python3.10/dist-packages (1.3.7)\n",
            "Requirement already satisfied: anyio<4,>=3.5.0 in /usr/local/lib/python3.10/dist-packages (from openai) (3.7.1)\n",
            "Requirement already satisfied: distro<2,>=1.7.0 in /usr/lib/python3/dist-packages (from openai) (1.7.0)\n",
            "Requirement already satisfied: httpx<1,>=0.23.0 in /usr/local/lib/python3.10/dist-packages (from openai) (0.27.2)\n",
            "Requirement already satisfied: pydantic<3,>=1.9.0 in /usr/local/lib/python3.10/dist-packages (from openai) (2.9.2)\n",
            "Requirement already satisfied: sniffio in /usr/local/lib/python3.10/dist-packages (from openai) (1.3.1)\n",
            "Requirement already satisfied: tqdm>4 in /usr/local/lib/python3.10/dist-packages (from openai) (4.66.1)\n",
            "Requirement already satisfied: typing-extensions<5,>=4.5 in /usr/local/lib/python3.10/dist-packages (from openai) (4.12.2)\n",
            "Requirement already satisfied: idna>=2.8 in /usr/local/lib/python3.10/dist-packages (from anyio<4,>=3.5.0->openai) (3.10)\n",
            "Requirement already satisfied: exceptiongroup in /usr/local/lib/python3.10/dist-packages (from anyio<4,>=3.5.0->openai) (1.2.2)\n",
            "Requirement already satisfied: certifi in /usr/local/lib/python3.10/dist-packages (from httpx<1,>=0.23.0->openai) (2024.8.30)\n",
            "Requirement already satisfied: httpcore==1.* in /usr/local/lib/python3.10/dist-packages (from httpx<1,>=0.23.0->openai) (1.0.6)\n",
            "Requirement already satisfied: h11<0.15,>=0.13 in /usr/local/lib/python3.10/dist-packages (from httpcore==1.*->httpx<1,>=0.23.0->openai) (0.14.0)\n",
            "Requirement already satisfied: annotated-types>=0.6.0 in /usr/local/lib/python3.10/dist-packages (from pydantic<3,>=1.9.0->openai) (0.7.0)\n",
            "Requirement already satisfied: pydantic-core==2.23.4 in /usr/local/lib/python3.10/dist-packages (from pydantic<3,>=1.9.0->openai) (2.23.4)\n"
          ]
        }
      ]
    },
    {
      "cell_type": "code",
      "execution_count": 2,
      "metadata": {
        "colab": {
          "base_uri": "https://localhost:8080/"
        },
        "id": "7QKqb4f9YmRq",
        "outputId": "600c6891-496c-47c8-806c-bb33c7478a31"
      },
      "outputs": [
        {
          "output_type": "stream",
          "name": "stdout",
          "text": [
            "ChatCompletionMessage(content='개', role='assistant', function_call=None, tool_calls=None, refusal=None)\n"
          ]
        }
      ],
      "source": [
        "from openai import OpenAI\n",
        "client = OpenAI(\n",
        "    api_key=\"secret\"\n",
        ")\n",
        "\n",
        "prompt = \"\"\"\n",
        "다음 텍스트를 한국말로 번역\n",
        "1. cat -> 고양이\n",
        "2. cow -> 소\n",
        "3. lion -> 사자\n",
        "4. tiger -> 호랑이\n",
        "\"\"\"\n",
        "\n",
        "completion = client.chat.completions.create(\n",
        "    model=\"gpt-4o-mini\",\n",
        "    messages=[\n",
        "        {\"role\": \"system\", \"content\": prompt},\n",
        "        {\n",
        "            \"role\": \"user\",\n",
        "            \"content\": \"dog\"\n",
        "        }\n",
        "    ]\n",
        ")\n",
        "\n",
        "print(completion.choices[0].message)"
      ]
    },
    {
      "cell_type": "code",
      "source": [
        "prompt = \"\"\"\n",
        "Convert the following natural language requests into SQL queries:\n",
        "1. \"find employees who's salary is over 50000\": SELECT * FROM employees WHERE salary > 50000;\n",
        "2. \"find products that the number of stocks are zero\": SELECT * FROM products WHERE stock = 0;\n",
        "3. \"find the name of the students of math score over 90\": SELECT name FROM students WHERE math_score > 90;\n",
        "\"\"\"\n",
        "\n",
        "content = \"\"\"\n",
        "Request: \"Find the average salary of employees in the marketing department.\"\n",
        "SQL Query:\n",
        "\"\"\"\n",
        "\n",
        "completion = client.chat.completions.create(\n",
        "    model=\"gpt-4o-mini\",\n",
        "    messages=[\n",
        "        {\"role\": \"system\", \"content\": prompt},\n",
        "        {\n",
        "            \"role\": \"user\",\n",
        "            \"content\": content\n",
        "        }\n",
        "    ]\n",
        ")\n",
        "\n",
        "print(completion.choices[0].message)"
      ],
      "metadata": {
        "colab": {
          "base_uri": "https://localhost:8080/"
        },
        "id": "fvlunK7AbmV7",
        "outputId": "ab09e8ee-e541-4493-b8fe-011594071b57"
      },
      "execution_count": 3,
      "outputs": [
        {
          "output_type": "stream",
          "name": "stdout",
          "text": [
            "ChatCompletionMessage(content=\"SELECT AVG(salary) FROM employees WHERE department = 'marketing';\", role='assistant', function_call=None, tool_calls=None, refusal=None)\n"
          ]
        }
      ]
    },
    {
      "cell_type": "markdown",
      "source": [
        "## CoT"
      ],
      "metadata": {
        "id": "xIOLgSo7ZIKg"
      }
    },
    {
      "cell_type": "code",
      "source": [
        "prompt = \"\"\"\n",
        "Solve the following problem step-by-step: 23 + 47\n",
        "\n",
        "Step-by-step solution:\n",
        "1. Add the first number, 23.\n",
        "2. Then, add the second number 47 to previous sum 23.\n",
        "3. The answer is the final sum.\n",
        "\n",
        "Answer: 70\n",
        "\"\"\"\n",
        "\n",
        "completion = client.chat.completions.create(\n",
        "    model=\"gpt-4o-mini\",\n",
        "    messages=[\n",
        "        {\"role\": \"system\", \"content\": prompt},\n",
        "        {\n",
        "            \"role\": \"user\",\n",
        "            \"content\": \"152 + 234\"\n",
        "        }\n",
        "    ]\n",
        ")\n",
        "\n",
        "print(completion.choices[0].message)"
      ],
      "metadata": {
        "colab": {
          "base_uri": "https://localhost:8080/"
        },
        "id": "TX5Elqu-Y7wB",
        "outputId": "54de6ff7-1247-4a76-d38a-43f98765cbe1"
      },
      "execution_count": 4,
      "outputs": [
        {
          "output_type": "stream",
          "name": "stdout",
          "text": [
            "ChatCompletionMessage(content='Step-by-step solution:\\n\\n1. Start with the first number, 152.\\n2. Add the second number, 234, to the previous sum (152).\\n3. Perform the addition:\\n\\n   - Align the numbers by their rightmost digits:\\n     ```\\n       152\\n     + 234\\n     ------\\n     ```\\n   - Add the digits in the ones place: \\\\(2 + 4 = 6\\\\)\\n   - Add the digits in the tens place: \\\\(5 + 3 = 8\\\\)\\n   - Add the digits in the hundreds place: \\\\(1 + 2 = 3\\\\)\\n\\n4. Combine the results from each column:\\n   ```\\n       152\\n     + 234\\n     ------\\n       386\\n     ```\\n\\nAnswer: 386', role='assistant', function_call=None, tool_calls=None, refusal=None)\n"
          ]
        }
      ]
    },
    {
      "cell_type": "code",
      "source": [
        "prompt = \"\"\"\n",
        "Solve the following problem step-by-step: 123 - 58\n",
        "\n",
        "Step-by-step solution:\n",
        "1. Add the first number, 123.\n",
        "2. Then, subtract the second number 58 to previous sum 123.\n",
        "3. The answer is the final sum.\n",
        "\n",
        "Answer: 65\n",
        "\"\"\"\n",
        "\n",
        "completion = client.chat.completions.create(\n",
        "    model=\"gpt-4o-mini\",\n",
        "    messages=[\n",
        "        {\"role\": \"system\", \"content\": prompt},\n",
        "        {\n",
        "            \"role\": \"user\",\n",
        "            \"content\": \"234 - 152\"\n",
        "        }\n",
        "    ]\n",
        ")\n",
        "\n",
        "print(completion.choices[0].message)"
      ],
      "metadata": {
        "colab": {
          "base_uri": "https://localhost:8080/"
        },
        "id": "LbxJdh9maX3T",
        "outputId": "c763097a-9f4b-4dee-d98d-11650bda4a08"
      },
      "execution_count": 5,
      "outputs": [
        {
          "output_type": "stream",
          "name": "stdout",
          "text": [
            "ChatCompletionMessage(content=\"Let's solve the problem step-by-step:\\n\\n1. Start with the first number, 234.\\n2. Subtract the second number, 152, from 234.\\n3. Perform the subtraction: \\n\\n   \\\\( 234 - 152 = 82 \\\\)\\n\\n4. The final answer is 82.\\n\\nAnswer: 82\", role='assistant', function_call=None, tool_calls=None, refusal=None)\n"
          ]
        }
      ]
    },
    {
      "cell_type": "code",
      "source": [
        "prompt = \"\"\"\n",
        "Problem 1.\n",
        "Solve the following problem step-by-step: 23 + 47\n",
        "\n",
        "Step-by-step solution:\n",
        "1. Add the first number, 23.\n",
        "2. Then, add the second number 47 to previous sum 23.\n",
        "3. The answer is the final sum.\n",
        "\n",
        "Answer: 70\n",
        "\n",
        "Problem 2.\n",
        "Solve the following problem step-by-step: 123 - 58\n",
        "\n",
        "Step-by-step solution:\n",
        "1. Add the first number, 123.\n",
        "2. Then, subtract the second number 58 to previous sum 123.\n",
        "3. The answer is the final sum.\n",
        "\n",
        "Answer: 65\n",
        "\"\"\"\n",
        "\n",
        "completion = client.chat.completions.create(\n",
        "    model=\"gpt-4o-mini\",\n",
        "    messages=[\n",
        "        {\"role\": \"system\", \"content\": prompt},\n",
        "        {\n",
        "            \"role\": \"user\",\n",
        "            \"content\": \"345 + 678 - 123\"\n",
        "        }\n",
        "    ]\n",
        ")\n",
        "\n",
        "print(completion.choices[0].message)"
      ],
      "metadata": {
        "colab": {
          "base_uri": "https://localhost:8080/"
        },
        "id": "VzsWN8bMaqmr",
        "outputId": "91dff424-f01f-4a5c-c782-7548da43afea"
      },
      "execution_count": 6,
      "outputs": [
        {
          "output_type": "stream",
          "name": "stdout",
          "text": [
            "ChatCompletionMessage(content='Step-by-step solution:\\n\\n1. Start by adding the first two numbers: 345 and 678.\\n   - 345 + 678 = 1023.\\n\\n2. Now, take the result from step 1 and subtract the third number (123).\\n   - 1023 - 123 = 900.\\n\\n3. The answer is the final sum.\\n\\nAnswer: 900', role='assistant', function_call=None, tool_calls=None, refusal=None)\n"
          ]
        }
      ]
    },
    {
      "cell_type": "code",
      "source": [
        "prompt = \"\"\"\n",
        "Solve the following logic puzzle step-by-step:\n",
        "Three friends, Alice, Bob, and Carol, have different favorite colors: red, blue, and green. We know that:\n",
        "1. Alice does not like red.\n",
        "2. Bob does not like blue.\n",
        "3. Carol likes green.\n",
        "\n",
        "Determine the favorite color of each friend.\n",
        "\n",
        "Step-by-step solution:\n",
        "1. Alice's favorite color is blue or green.\n",
        "2. Bob's favorite color is red of green.\n",
        "3. Carol's favorite color is green.\n",
        "4. Alice's favorite color is blue.\n",
        "5. Bob's favorite color is red.\n",
        "\n",
        "Answer:\n",
        "- Alice: blue\n",
        "- Bob: red\n",
        "- Carol: green\n",
        "\"\"\"\n",
        "\n",
        "content = \"\"\"\n",
        "Four friends — Alice, Bob, Carol, and Dave — each have a different favorite color from these options: red, blue, green, and yellow. Based on their preferences and hints provided, determine each person's favorite color.\n",
        "\n",
        "1. Alice does not like blue.\n",
        "2. Bob does not like red.\n",
        "3. Carol likes neither green nor yellow.\n",
        "4. Dave does not like the color yellow.\n",
        "5. The person who likes green used to like red.\n",
        "6. The person who likes blue used to like green.\n",
        "7. Alice's current favorite color is the color that Dave used to like.\n",
        "8. Carol's current favorite color is the color that Bob used to like.\n",
        "\"\"\"\n",
        "\n",
        "completion = client.chat.completions.create(\n",
        "    model=\"gpt-4o-mini\",\n",
        "    messages=[\n",
        "        {\"role\": \"system\", \"content\": prompt},\n",
        "        {\n",
        "            \"role\": \"user\",\n",
        "            \"content\": content\n",
        "        }\n",
        "    ]\n",
        ")\n",
        "\n",
        "print(completion.choices[0].message.content)"
      ],
      "metadata": {
        "colab": {
          "base_uri": "https://localhost:8080/"
        },
        "id": "9I-2KrIHectf",
        "outputId": "ada8bb92-c84d-4730-dc97-a72a82ad0ec1"
      },
      "execution_count": 8,
      "outputs": [
        {
          "output_type": "stream",
          "name": "stdout",
          "text": [
            "To determine the favorite color of each friend, we'll go step-by-step using the hints provided.\n",
            "\n",
            "1. **Alice does not like blue.**\n",
            "   - Possible colors for Alice: red, green, yellow.\n",
            "\n",
            "2. **Bob does not like red.**\n",
            "   - Possible colors for Bob: blue, green, yellow.\n",
            "\n",
            "3. **Carol likes neither green nor yellow.**\n",
            "   - Since Carol can't like green or yellow, she must like red. So, currently:\n",
            "   - Carol: red.\n",
            "\n",
            "4. **Dave does not like yellow.**\n",
            "   - Possible colors for Dave: blue, green.\n",
            "\n",
            "5. **The person who likes green used to like red.**\n",
            "   - Since Carol currently likes red and only one person likes a color, we will assume this person (who likes green) cannot be Carol.\n",
            "\n",
            "6. **The person who likes blue used to like green.**\n",
            "   - We have no assigned color yet, so we’ll hold this clue for now.\n",
            "\n",
            "7. **Alice's current favorite color is the color that Dave used to like.**\n",
            "   - Since we established that Carol likes red, that leaves Dave who doesn’t like yellow. So, Dave must like either blue or green.\n",
            "\n",
            "8. **Carol's current favorite color is the color that Bob used to like.**\n",
            "   - Since Bob cannot have liked red (from clue 2), we confirm that Bob must have liked either green or yellow.\n",
            "\n",
            "Now we consolidate the information:\n",
            "- Carol likes red.\n",
            "- Alice cannot like blue, which narrows down her favorites to green or yellow. But since Carol's favorite is red, Alice’s must be the color Dave used to like.\n",
            "- If Dave does not like yellow, then he must like blue, leaving Alice with yellow.\n",
            "\n",
            "Now let's summarize:\n",
            "- If Carol likes red (confirmed), and Alice must have Dave’s favorite color and that color is yellow:\n",
            "   - Alice: yellow (she can’t like blue)\n",
            "   - Dave: blue (he also doesn’t like yellow)\n",
            "\n",
            "This implies:\n",
            "- Now assigning blue to Dave means:\n",
            "   - Bob: green (because he can’t like red - confirmed)\n",
            "\n",
            "So finally, we have:\n",
            "- Alice: yellow\n",
            "- Bob: green\n",
            "- Carol: red\n",
            "- Dave: blue\n",
            "\n",
            "Thus, the favorite colors of each friend are:\n",
            "- Alice: yellow\n",
            "- Bob: green\n",
            "- Carol: red\n",
            "- Dave: blue\n"
          ]
        }
      ]
    },
    {
      "cell_type": "markdown",
      "source": [
        "## Prompt Compression"
      ],
      "metadata": {
        "id": "JcT5W8jkgolZ"
      }
    },
    {
      "cell_type": "code",
      "source": [
        "!pip install llmlingua"
      ],
      "metadata": {
        "colab": {
          "base_uri": "https://localhost:8080/"
        },
        "id": "eP4v3F8Ffe0H",
        "outputId": "51ff4486-f0f1-4656-d0db-2803ab68f8ff"
      },
      "execution_count": 9,
      "outputs": [
        {
          "output_type": "stream",
          "name": "stdout",
          "text": [
            "Collecting llmlingua\n",
            "  Downloading llmlingua-0.2.2-py3-none-any.whl.metadata (17 kB)\n",
            "Requirement already satisfied: transformers>=4.26.0 in /usr/local/lib/python3.10/dist-packages (from llmlingua) (4.38.0)\n",
            "Requirement already satisfied: accelerate in /usr/local/lib/python3.10/dist-packages (from llmlingua) (0.25.0)\n",
            "Requirement already satisfied: torch in /usr/local/lib/python3.10/dist-packages (from llmlingua) (2.2.0)\n",
            "Requirement already satisfied: tiktoken in /usr/local/lib/python3.10/dist-packages (from llmlingua) (0.6.0)\n",
            "Requirement already satisfied: nltk in /usr/local/lib/python3.10/dist-packages (from llmlingua) (3.8.1)\n",
            "Requirement already satisfied: numpy in /usr/local/lib/python3.10/dist-packages (from llmlingua) (1.26.4)\n",
            "Requirement already satisfied: filelock in /usr/local/lib/python3.10/dist-packages (from transformers>=4.26.0->llmlingua) (3.16.1)\n",
            "Requirement already satisfied: huggingface-hub<1.0,>=0.19.3 in /usr/local/lib/python3.10/dist-packages (from transformers>=4.26.0->llmlingua) (0.24.7)\n",
            "Requirement already satisfied: packaging>=20.0 in /usr/local/lib/python3.10/dist-packages (from transformers>=4.26.0->llmlingua) (24.1)\n",
            "Requirement already satisfied: pyyaml>=5.1 in /usr/local/lib/python3.10/dist-packages (from transformers>=4.26.0->llmlingua) (6.0.2)\n",
            "Requirement already satisfied: regex!=2019.12.17 in /usr/local/lib/python3.10/dist-packages (from transformers>=4.26.0->llmlingua) (2024.9.11)\n",
            "Requirement already satisfied: requests in /usr/local/lib/python3.10/dist-packages (from transformers>=4.26.0->llmlingua) (2.32.3)\n",
            "Requirement already satisfied: tokenizers<0.19,>=0.14 in /usr/local/lib/python3.10/dist-packages (from transformers>=4.26.0->llmlingua) (0.15.0)\n",
            "Requirement already satisfied: safetensors>=0.4.1 in /usr/local/lib/python3.10/dist-packages (from transformers>=4.26.0->llmlingua) (0.4.5)\n",
            "Requirement already satisfied: tqdm>=4.27 in /usr/local/lib/python3.10/dist-packages (from transformers>=4.26.0->llmlingua) (4.66.1)\n",
            "Requirement already satisfied: psutil in /usr/local/lib/python3.10/dist-packages (from accelerate->llmlingua) (5.9.5)\n",
            "Requirement already satisfied: typing-extensions>=4.8.0 in /usr/local/lib/python3.10/dist-packages (from torch->llmlingua) (4.12.2)\n",
            "Requirement already satisfied: sympy in /usr/local/lib/python3.10/dist-packages (from torch->llmlingua) (1.13.1)\n",
            "Requirement already satisfied: networkx in /usr/local/lib/python3.10/dist-packages (from torch->llmlingua) (3.4.2)\n",
            "Requirement already satisfied: jinja2 in /usr/local/lib/python3.10/dist-packages (from torch->llmlingua) (3.1.4)\n",
            "Requirement already satisfied: fsspec in /usr/local/lib/python3.10/dist-packages (from torch->llmlingua) (2024.3.1)\n",
            "Requirement already satisfied: nvidia-cuda-nvrtc-cu12==12.1.105 in /usr/local/lib/python3.10/dist-packages (from torch->llmlingua) (12.1.105)\n",
            "Requirement already satisfied: nvidia-cuda-runtime-cu12==12.1.105 in /usr/local/lib/python3.10/dist-packages (from torch->llmlingua) (12.1.105)\n",
            "Requirement already satisfied: nvidia-cuda-cupti-cu12==12.1.105 in /usr/local/lib/python3.10/dist-packages (from torch->llmlingua) (12.1.105)\n",
            "Requirement already satisfied: nvidia-cudnn-cu12==8.9.2.26 in /usr/local/lib/python3.10/dist-packages (from torch->llmlingua) (8.9.2.26)\n",
            "Requirement already satisfied: nvidia-cublas-cu12==12.1.3.1 in /usr/local/lib/python3.10/dist-packages (from torch->llmlingua) (12.1.3.1)\n",
            "Requirement already satisfied: nvidia-cufft-cu12==11.0.2.54 in /usr/local/lib/python3.10/dist-packages (from torch->llmlingua) (11.0.2.54)\n",
            "Requirement already satisfied: nvidia-curand-cu12==10.3.2.106 in /usr/local/lib/python3.10/dist-packages (from torch->llmlingua) (10.3.2.106)\n",
            "Requirement already satisfied: nvidia-cusolver-cu12==11.4.5.107 in /usr/local/lib/python3.10/dist-packages (from torch->llmlingua) (11.4.5.107)\n",
            "Requirement already satisfied: nvidia-cusparse-cu12==12.1.0.106 in /usr/local/lib/python3.10/dist-packages (from torch->llmlingua) (12.1.0.106)\n",
            "Requirement already satisfied: nvidia-nccl-cu12==2.19.3 in /usr/local/lib/python3.10/dist-packages (from torch->llmlingua) (2.19.3)\n",
            "Requirement already satisfied: nvidia-nvtx-cu12==12.1.105 in /usr/local/lib/python3.10/dist-packages (from torch->llmlingua) (12.1.105)\n",
            "Requirement already satisfied: triton==2.2.0 in /usr/local/lib/python3.10/dist-packages (from torch->llmlingua) (2.2.0)\n",
            "Requirement already satisfied: nvidia-nvjitlink-cu12 in /usr/local/lib/python3.10/dist-packages (from nvidia-cusolver-cu12==11.4.5.107->torch->llmlingua) (12.6.77)\n",
            "Requirement already satisfied: click in /usr/local/lib/python3.10/dist-packages (from nltk->llmlingua) (8.1.7)\n",
            "Requirement already satisfied: joblib in /usr/local/lib/python3.10/dist-packages (from nltk->llmlingua) (1.4.2)\n",
            "Requirement already satisfied: charset-normalizer<4,>=2 in /usr/local/lib/python3.10/dist-packages (from requests->transformers>=4.26.0->llmlingua) (3.4.0)\n",
            "Requirement already satisfied: idna<4,>=2.5 in /usr/local/lib/python3.10/dist-packages (from requests->transformers>=4.26.0->llmlingua) (3.10)\n",
            "Requirement already satisfied: urllib3<3,>=1.21.1 in /usr/local/lib/python3.10/dist-packages (from requests->transformers>=4.26.0->llmlingua) (2.2.3)\n",
            "Requirement already satisfied: certifi>=2017.4.17 in /usr/local/lib/python3.10/dist-packages (from requests->transformers>=4.26.0->llmlingua) (2024.8.30)\n",
            "Requirement already satisfied: MarkupSafe>=2.0 in /usr/local/lib/python3.10/dist-packages (from jinja2->torch->llmlingua) (3.0.2)\n",
            "Requirement already satisfied: mpmath<1.4,>=1.1.0 in /usr/local/lib/python3.10/dist-packages (from sympy->torch->llmlingua) (1.3.0)\n",
            "Downloading llmlingua-0.2.2-py3-none-any.whl (30 kB)\n",
            "Installing collected packages: llmlingua\n",
            "Successfully installed llmlingua-0.2.2\n"
          ]
        }
      ]
    }
  ]
}